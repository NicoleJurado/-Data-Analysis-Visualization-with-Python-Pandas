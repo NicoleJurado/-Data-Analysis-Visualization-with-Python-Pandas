{
 "cells": [
  {
   "cell_type": "code",
   "execution_count": 3,
   "id": "53492238",
   "metadata": {},
   "outputs": [],
   "source": [
    "a=1\n",
    "b=2\n",
    "c=3\n"
   ]
  },
  {
   "cell_type": "code",
   "execution_count": 4,
   "id": "8b0b9b58",
   "metadata": {},
   "outputs": [
    {
     "name": "stdout",
     "output_type": "stream",
     "text": [
      "6\n"
     ]
    }
   ],
   "source": [
    "print(a + b + c)"
   ]
  },
  {
   "cell_type": "code",
   "execution_count": 5,
   "id": "ee87aaf0",
   "metadata": {},
   "outputs": [
    {
     "data": {
      "text/plain": [
       "int"
      ]
     },
     "execution_count": 5,
     "metadata": {},
     "output_type": "execute_result"
    }
   ],
   "source": [
    "type(105)\n"
   ]
  },
  {
   "cell_type": "code",
   "execution_count": 6,
   "id": "07b8de3b",
   "metadata": {},
   "outputs": [
    {
     "data": {
      "text/plain": [
       "float"
      ]
     },
     "execution_count": 6,
     "metadata": {},
     "output_type": "execute_result"
    }
   ],
   "source": [
    "type(105.5)"
   ]
  },
  {
   "cell_type": "code",
   "execution_count": 7,
   "id": "c6495e06",
   "metadata": {},
   "outputs": [
    {
     "data": {
      "text/plain": [
       "int"
      ]
     },
     "execution_count": 7,
     "metadata": {},
     "output_type": "execute_result"
    }
   ],
   "source": [
    "type(-1)\n"
   ]
  },
  {
   "cell_type": "code",
   "execution_count": 8,
   "id": "e41578f7",
   "metadata": {},
   "outputs": [
    {
     "name": "stdout",
     "output_type": "stream",
     "text": [
      "-2\n"
     ]
    }
   ],
   "source": [
    "print(-2)\n"
   ]
  },
  {
   "cell_type": "code",
   "execution_count": 9,
   "id": "a4735c8e",
   "metadata": {},
   "outputs": [],
   "source": [
    "my_int = -2\n"
   ]
  },
  {
   "cell_type": "code",
   "execution_count": 10,
   "id": "ea99ad97",
   "metadata": {},
   "outputs": [
    {
     "name": "stdout",
     "output_type": "stream",
     "text": [
      "-2\n"
     ]
    }
   ],
   "source": [
    "print(my_int)"
   ]
  },
  {
   "cell_type": "code",
   "execution_count": 11,
   "id": "0daa0f2b",
   "metadata": {},
   "outputs": [],
   "source": [
    "int_math= 10-(-2)\n"
   ]
  },
  {
   "cell_type": "code",
   "execution_count": 12,
   "id": "91a8fbf6",
   "metadata": {},
   "outputs": [
    {
     "name": "stdout",
     "output_type": "stream",
     "text": [
      "12\n"
     ]
    }
   ],
   "source": [
    "print(int_math)\n"
   ]
  },
  {
   "cell_type": "code",
   "execution_count": 13,
   "id": "137a2c74",
   "metadata": {},
   "outputs": [
    {
     "name": "stdout",
     "output_type": "stream",
     "text": [
      "2.0\n"
     ]
    }
   ],
   "source": [
    "print(2.0)"
   ]
  },
  {
   "cell_type": "code",
   "execution_count": 14,
   "id": "68a7e48f",
   "metadata": {},
   "outputs": [],
   "source": [
    "my_float = -10.2\n"
   ]
  },
  {
   "cell_type": "code",
   "execution_count": 15,
   "id": "b90ce0be",
   "metadata": {},
   "outputs": [
    {
     "name": "stdout",
     "output_type": "stream",
     "text": [
      "-10.2\n"
     ]
    }
   ],
   "source": [
    "print(my_float)"
   ]
  },
  {
   "cell_type": "code",
   "execution_count": 16,
   "id": "a08de090",
   "metadata": {},
   "outputs": [],
   "source": [
    "float_math=-10.50 + 20.6"
   ]
  },
  {
   "cell_type": "code",
   "execution_count": 17,
   "id": "74e58cbc",
   "metadata": {},
   "outputs": [
    {
     "name": "stdout",
     "output_type": "stream",
     "text": [
      "10.100000000000001\n"
     ]
    }
   ],
   "source": [
    "print(float_math)"
   ]
  },
  {
   "cell_type": "code",
   "execution_count": 18,
   "id": "3e476702",
   "metadata": {},
   "outputs": [
    {
     "name": "stdout",
     "output_type": "stream",
     "text": [
      "10\n"
     ]
    }
   ],
   "source": [
    "print(round(float_math))"
   ]
  },
  {
   "cell_type": "code",
   "execution_count": 19,
   "id": "b81cce1d",
   "metadata": {},
   "outputs": [
    {
     "data": {
      "text/plain": [
       "True"
      ]
     },
     "execution_count": 19,
     "metadata": {},
     "output_type": "execute_result"
    }
   ],
   "source": [
    "200>150"
   ]
  },
  {
   "cell_type": "code",
   "execution_count": 20,
   "id": "9d85ebf2",
   "metadata": {},
   "outputs": [
    {
     "data": {
      "text/plain": [
       "False"
      ]
     },
     "execution_count": 20,
     "metadata": {},
     "output_type": "execute_result"
    }
   ],
   "source": [
    "2>3"
   ]
  },
  {
   "cell_type": "code",
   "execution_count": 21,
   "id": "1efc0ddd",
   "metadata": {},
   "outputs": [
    {
     "data": {
      "text/plain": [
       "True"
      ]
     },
     "execution_count": 21,
     "metadata": {},
     "output_type": "execute_result"
    }
   ],
   "source": [
    "2<5"
   ]
  },
  {
   "cell_type": "code",
   "execution_count": 28,
   "id": "37aa5fbf",
   "metadata": {},
   "outputs": [
    {
     "data": {
      "text/plain": [
       "False"
      ]
     },
     "execution_count": 28,
     "metadata": {},
     "output_type": "execute_result"
    }
   ],
   "source": [
    "3<1"
   ]
  },
  {
   "cell_type": "code",
   "execution_count": 23,
   "id": "96ca7e66",
   "metadata": {},
   "outputs": [
    {
     "data": {
      "text/plain": [
       "True"
      ]
     },
     "execution_count": 23,
     "metadata": {},
     "output_type": "execute_result"
    }
   ],
   "source": [
    "6==6"
   ]
  },
  {
   "cell_type": "code",
   "execution_count": 24,
   "id": "48452cdf",
   "metadata": {},
   "outputs": [
    {
     "data": {
      "text/plain": [
       "False"
      ]
     },
     "execution_count": 24,
     "metadata": {},
     "output_type": "execute_result"
    }
   ],
   "source": [
    "20==10"
   ]
  },
  {
   "cell_type": "code",
   "execution_count": 26,
   "id": "eeb24856",
   "metadata": {},
   "outputs": [],
   "source": [
    "my_bool=5>7"
   ]
  },
  {
   "cell_type": "code",
   "execution_count": 27,
   "id": "c23ad6ac",
   "metadata": {},
   "outputs": [
    {
     "name": "stdout",
     "output_type": "stream",
     "text": [
      "False\n"
     ]
    }
   ],
   "source": [
    "print(my_bool)"
   ]
  },
  {
   "cell_type": "code",
   "execution_count": 29,
   "id": "754891b3",
   "metadata": {},
   "outputs": [
    {
     "name": "stdout",
     "output_type": "stream",
     "text": [
      "10.1\n"
     ]
    }
   ],
   "source": [
    "print(round(float_math, 2))\n"
   ]
  },
  {
   "cell_type": "code",
   "execution_count": 30,
   "id": "62587e20",
   "metadata": {},
   "outputs": [
    {
     "name": "stdout",
     "output_type": "stream",
     "text": [
      "hellow, world\n"
     ]
    }
   ],
   "source": [
    "print('hellow, world')"
   ]
  },
  {
   "cell_type": "code",
   "execution_count": 31,
   "id": "8b83dec8",
   "metadata": {},
   "outputs": [],
   "source": [
    "my_string = 'hello, world'"
   ]
  },
  {
   "cell_type": "code",
   "execution_count": 32,
   "id": "9654b1cb",
   "metadata": {},
   "outputs": [
    {
     "name": "stdout",
     "output_type": "stream",
     "text": [
      "hello, world\n"
     ]
    }
   ],
   "source": [
    "print(my_string)"
   ]
  },
  {
   "cell_type": "code",
   "execution_count": null,
   "id": "be017492",
   "metadata": {},
   "outputs": [],
   "source": []
  }
 ],
 "metadata": {
  "kernelspec": {
   "display_name": "Python 3 (ipykernel)",
   "language": "python",
   "name": "python3"
  },
  "language_info": {
   "codemirror_mode": {
    "name": "ipython",
    "version": 3
   },
   "file_extension": ".py",
   "mimetype": "text/x-python",
   "name": "python",
   "nbconvert_exporter": "python",
   "pygments_lexer": "ipython3",
   "version": "3.9.12"
  }
 },
 "nbformat": 4,
 "nbformat_minor": 5
}
